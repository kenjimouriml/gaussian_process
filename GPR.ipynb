{
 "cells": [
  {
   "cell_type": "code",
   "execution_count": 1,
   "metadata": {},
   "outputs": [
    {
     "name": "stderr",
     "output_type": "stream",
     "text": [
      "\n",
      "Bad key \"text.kerning_factor\" on line 4 in\n",
      "/Users/kenji/.pyenv/versions/anaconda3-4.4.0/lib/python3.6/site-packages/matplotlib/mpl-data/stylelib/_classic_test_patch.mplstyle.\n",
      "You probably need to get an updated matplotlibrc file from\n",
      "https://github.com/matplotlib/matplotlib/blob/v3.1.3/matplotlibrc.template\n",
      "or from the matplotlib source distribution\n"
     ]
    }
   ],
   "source": [
    "import numpy as np\n",
    "from numpy.linalg import inv, det\n",
    "from scipy.stats import multivariate_normal\n",
    "import math as m\n",
    "\n",
    "from mpl_toolkits.mplot3d import Axes3D \n",
    "import matplotlib.pyplot as plt\n",
    "%matplotlib inline\n",
    "\n",
    "from sklearn.datasets import load_boston, load_diabetes\n",
    "from sklearn.metrics import mean_squared_error"
   ]
  },
  {
   "cell_type": "code",
   "execution_count": 2,
   "metadata": {},
   "outputs": [],
   "source": [
    "data = load_diabetes()\n",
    "\n",
    "X = data.data\n",
    "y = data.target\n",
    "\n",
    "X_train = X[:400]\n",
    "y_train = y[:400]\n",
    "X_test = X[400:]\n",
    "y_test = y[400:]"
   ]
  },
  {
   "cell_type": "code",
   "execution_count": 3,
   "metadata": {},
   "outputs": [
    {
     "data": {
      "text/plain": [
       "(400, 10)"
      ]
     },
     "execution_count": 3,
     "metadata": {},
     "output_type": "execute_result"
    }
   ],
   "source": [
    "X_train.shape"
   ]
  },
  {
   "cell_type": "code",
   "execution_count": 4,
   "metadata": {},
   "outputs": [],
   "source": [
    "X_mean = X_train.mean(axis=0)\n",
    "X_std = X_train.std(axis=0)\n",
    "y_mean = y_train.mean()\n",
    "y_std = y_train.std()"
   ]
  },
  {
   "cell_type": "code",
   "execution_count": 5,
   "metadata": {},
   "outputs": [],
   "source": [
    "X_train = X_train - X_mean\n",
    "X_train = X_train / X_std\n",
    "\n",
    "X_test = X_test - X_mean\n",
    "X_test = X_test / X_std\n",
    "\n",
    "y_train = y_train - y_mean\n",
    "y_train = y_train / y_std"
   ]
  },
  {
   "cell_type": "code",
   "execution_count": 6,
   "metadata": {},
   "outputs": [
    {
     "data": {
      "text/plain": [
       "(42, 10)"
      ]
     },
     "execution_count": 6,
     "metadata": {},
     "output_type": "execute_result"
    }
   ],
   "source": [
    "X_test.shape"
   ]
  },
  {
   "cell_type": "code",
   "execution_count": 7,
   "metadata": {},
   "outputs": [],
   "source": [
    "def Kernel(x, x_prime):\n",
    "    theta1 = 1.0462995\n",
    "    theta2 = 66.40418798\n",
    "    \n",
    "    kernel_matrix = np.zeros((x.shape[0], x_prime.shape[0]))\n",
    "    for i in range(x.shape[0]):\n",
    "        for j in range(x_prime.shape[0]):\n",
    "            kernel_matrix[i, j] = theta1 * m.exp(-np.dot(x[i] - x_prime[j], x[i] - x_prime[j]) / theta2)\n",
    "\n",
    "    return kernel_matrix\n",
    "\n",
    "def K_diag(x):\n",
    "    theta1 = 1.04629995\n",
    "    theta2 = 66.40418798\n",
    "    \n",
    "    diag_matrix = np.zeros((x.shape[0], x.shape[0]))\n",
    "    for i in range(x.shape[0]):\n",
    "            diag_matrix[i, i] = theta1 * m.exp(-np.dot(x[i] - x[i], x[i] - x[i]) / theta2)\n",
    "    \n",
    "    return diag_matrix"
   ]
  },
  {
   "cell_type": "code",
   "execution_count": 8,
   "metadata": {},
   "outputs": [
    {
     "name": "stdout",
     "output_type": "stream",
     "text": [
      "(400, 400)\n",
      "(400, 42)\n",
      "(42, 42)\n"
     ]
    }
   ],
   "source": [
    "theta3 = 0.48637326\n",
    "\n",
    "K = Kernel(X_train, X_train) + theta3 * np.eye(X_train.shape[0])\n",
    "k_a = Kernel(X_train, X_test)\n",
    "k_aa = K_diag(X_test) + theta3 * np.eye(X_test.shape[0])\n",
    "\n",
    "print(K.shape)\n",
    "print(k_a.shape)\n",
    "print(k_aa.shape)"
   ]
  },
  {
   "cell_type": "code",
   "execution_count": 9,
   "metadata": {},
   "outputs": [],
   "source": [
    "mean = np.dot(k_a.T, inv(K))\n",
    "mean = np.dot(mean, y_train)\n",
    "\n",
    "mean = k_a.T.dot(inv(K)).dot(y_train)"
   ]
  },
  {
   "cell_type": "code",
   "execution_count": 10,
   "metadata": {},
   "outputs": [],
   "source": [
    "y_pred = mean * y_std + y_mean"
   ]
  },
  {
   "cell_type": "code",
   "execution_count": 11,
   "metadata": {},
   "outputs": [
    {
     "name": "stdout",
     "output_type": "stream",
     "text": [
      "41.09204628776027\n"
     ]
    },
    {
     "data": {
      "image/png": "[encoded data removed]",
      "text/plain": [
       "<Figure size 432x288 with 1 Axes>"
      ]
     },
     "metadata": {
      "needs_background": "light"
     },
     "output_type": "display_data"
    }
   ],
   "source": [
    "plt.plot(y_test, y_pred, \"o\")\n",
    "plt.xlim([50, 300])\n",
    "plt.ylim([50, 300])\n",
    "\n",
    "print(m.sqrt(mean_squared_error(y_pred, y_test)))"
   ]
  }
 ],
 "metadata": {
  "kernelspec": {
   "display_name": "Python 3",
   "language": "python",
   "name": "python3"
  },
  "language_info": {
   "codemirror_mode": {
    "name": "ipython",
    "version": 3
   },
   "file_extension": ".py",
   "mimetype": "text/x-python",
   "name": "python",
   "nbconvert_exporter": "python",
   "pygments_lexer": "ipython3",
   "version": "3.6.10"
  }
 },
 "nbformat": 4,
 "nbformat_minor": 4
}
