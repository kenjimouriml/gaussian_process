{
 "cells": [
  {
   "cell_type": "code",
   "execution_count": 19,
   "metadata": {},
   "outputs": [],
   "source": [
    "import numpy as np\n",
    "from numpy.linalg import inv, det\n",
    "from scipy.stats import multivariate_normal\n",
    "import math as m\n",
    "from scipy.optimize import fmin_l_bfgs_b\n",
    "\n",
    "import pandas as pd\n",
    "\n",
    "from mpl_toolkits.mplot3d import Axes3D \n",
    "import matplotlib.pyplot as plt\n",
    "%matplotlib inline\n",
    "\n",
    "from sklearn.datasets import load_boston, load_diabetes\n",
    "from sklearn.metrics import mean_squared_error"
   ]
  },
  {
   "cell_type": "code",
   "execution_count": 8,
   "metadata": {},
   "outputs": [],
   "source": [
    "data = load_diabetes()\n",
    "\n",
    "X = data.data\n",
    "y = data.target\n",
    "\n",
    "X_train = X[:400]\n",
    "y_train = y[:400]\n",
    "X_test = X[400:]\n",
    "y_test = y[400:]"
   ]
  },
  {
   "cell_type": "code",
   "execution_count": 9,
   "metadata": {},
   "outputs": [
    {
     "data": {
      "text/plain": [
       "(442, 10)"
      ]
     },
     "execution_count": 9,
     "metadata": {},
     "output_type": "execute_result"
    }
   ],
   "source": [
    "X.shape"
   ]
  },
  {
   "cell_type": "code",
   "execution_count": 2,
   "metadata": {},
   "outputs": [],
   "source": [
    "# data = load_boston()\n",
    "\n",
    "# X = data.data\n",
    "# y = data.target\n",
    "\n",
    "# X_train = X[:450]\n",
    "# y_train = y[:450]\n",
    "# X_test = X[450:]\n",
    "# y_test = y[450:]"
   ]
  },
  {
   "cell_type": "code",
   "execution_count": 10,
   "metadata": {},
   "outputs": [],
   "source": [
    "X_mean = X_train.mean(axis=0)\n",
    "X_std = X_train.std(axis=0)\n",
    "y_mean = y_train.mean()\n",
    "y_std = y_train.std()"
   ]
  },
  {
   "cell_type": "code",
   "execution_count": 11,
   "metadata": {},
   "outputs": [],
   "source": [
    "X_train = X_train - X_mean\n",
    "X_train = X_train / X_std\n",
    "\n",
    "X_test = X_test - X_mean\n",
    "X_test = X_test / X_std\n",
    "\n",
    "y_train = y_train - y_mean\n",
    "y_train = y_train / y_std"
   ]
  },
  {
   "cell_type": "code",
   "execution_count": 12,
   "metadata": {},
   "outputs": [],
   "source": [
    "X_train = X_train + 100 * np.random.randn(X_train.shape[0], X_train.shape[1])"
   ]
  },
  {
   "cell_type": "code",
   "execution_count": 12,
   "metadata": {},
   "outputs": [
    {
     "data": {
      "text/plain": [
       "0.0"
      ]
     },
     "execution_count": 12,
     "metadata": {},
     "output_type": "execute_result"
    }
   ],
   "source": [
    "det(X_train.dot(X_train.T))"
   ]
  },
  {
   "cell_type": "code",
   "execution_count": 13,
   "metadata": {},
   "outputs": [
    {
     "data": {
      "text/plain": [
       "(42, 10)"
      ]
     },
     "execution_count": 13,
     "metadata": {},
     "output_type": "execute_result"
    }
   ],
   "source": [
    "X_test.shape"
   ]
  },
  {
   "cell_type": "code",
   "execution_count": 14,
   "metadata": {},
   "outputs": [],
   "source": [
    "class GaussianProcessRegressionBFGS:\n",
    "    def __init__(self):\n",
    "        self.tau_0 = m.log(1.0)\n",
    "        self.sigma_0 = m.log(1.0)\n",
    "        self.eta_0 = m.log(1.0)\n",
    "        self.theta_0 = np.array([self.tau_0, self.sigma_0, self.eta_0])\n",
    "        \n",
    "    def __Kernel(self, theta, x):\n",
    "        theta1 = m.exp(theta[0])\n",
    "        theta2 = m.exp(-theta[1])\n",
    "        theta3 = m.exp(theta[2])\n",
    "\n",
    "        kernel_matrix = np.zeros((x.shape[0], x.shape[0]))\n",
    "        L2norm = np.zeros((x.shape[0], x.shape[0]))\n",
    "        for i in range(x.shape[0]):\n",
    "            for j in range(x.shape[0]):\n",
    "                L2norm[i, j] = np.dot(x[i] - x[j], x[i] - x[j])\n",
    "                kernel_matrix[i, j] = theta1 * m.exp(- L2norm[i, j]* theta2)\n",
    "            \n",
    "        kernel_matrix = kernel_matrix + theta3 * np.eye(x.shape[0]) \n",
    "        return kernel_matrix, L2norm\n",
    "        \n",
    "    def __logL(self, theta, *args):\n",
    "        print(theta)\n",
    "        x = args[0]\n",
    "        y = args[1]\n",
    "        \n",
    "        K, _ = self.__Kernel(theta, x)\n",
    "        print(det(K))\n",
    "        loglik1 = - m.log(det(K))\n",
    "        loglik2 = - y.reshape(-1,1).T.dot(inv(K)).dot(y.reshape(-1, 1))\n",
    "        \n",
    "        print(-(loglik1 + loglik2))\n",
    "        \n",
    "        return -(loglik1 + loglik2)\n",
    "    \n",
    "    def __dLdtheta(self, theta, *args):\n",
    "        x = args[0]\n",
    "        y = args[1]\n",
    "        \n",
    "        K, L2norm = self.__Kernel(theta, x)\n",
    "        K_inv = inv(K)\n",
    "        \n",
    "        dK_tau = K - m.exp(theta[2]) * np.eye(x.shape[0])\n",
    "        dL1_tau = -np.trace(K_inv.dot(dK_tau))\n",
    "        Kinvy = np.dot(K_inv, y.reshape(-1, 1)) \n",
    "        dL2_tau = Kinvy.T.dot(dK_tau).dot(Kinvy)\n",
    "        \n",
    "        dK_sigma = m.exp(-theta[1]) * (K - m.exp(theta[2]) * np.eye(x.shape[0]))* L2norm\n",
    "        dL1_sigma = -np.trace(K_inv.dot(dK_sigma))\n",
    "        dL2_sigma = Kinvy.T.dot(dK_sigma).dot(Kinvy)\n",
    "        \n",
    "        dK_eta = m.exp(theta[2]) * np.eye(x.shape[0])\n",
    "        dL1_eta = -np.trace(K_inv.dot(dK_eta))\n",
    "        dL2_eta = Kinvy.T.dot(dK_eta).dot(Kinvy)\n",
    "        \n",
    "        dL_tau = dL1_tau + dL2_tau\n",
    "        dL_sigma = dL1_sigma + dL2_sigma\n",
    "        dL_eta = dL1_eta + dL2_eta\n",
    "        \n",
    "        return np.array([- dL_tau, - dL_sigma, - dL_eta])\n",
    "    \n",
    "    def fit(self, X, y):\n",
    "        theta_ast, Lmin, result = fmin_l_bfgs_b(\n",
    "            self.__logL, \n",
    "            self.theta_0,\n",
    "            self.__dLdtheta,\n",
    "            args=(X, y),\n",
    "            maxiter=1000\n",
    "        )\n",
    "        \n",
    "        return theta_ast, Lmin, result"
   ]
  },
  {
   "cell_type": "code",
   "execution_count": 15,
   "metadata": {},
   "outputs": [
    {
     "name": "stdout",
     "output_type": "stream",
     "text": [
      "[0. 0. 0.]\n",
      "1.3562521447994338e+118\n",
      "[[456.15776815]]\n",
      "[-0.62706933  0.24869505 -0.73819701]\n",
      "0.002103449437166388\n",
      "[[343.81169683]]\n",
      "[-1.04457892  1.19290883 -1.48807268]\n",
      "3.821948941163889e-132\n",
      "[[281.14816373]]\n",
      "[-0.82344499  1.36263847 -1.16334067]\n",
      "1.0460518165040945e-91\n",
      "[[239.46820058]]\n",
      "[-0.68289847  2.41588075 -0.87335579]\n",
      "1.0569235693430669e-97\n",
      "[[185.99028708]]\n",
      "[-1.14882749  4.14976612  0.06554323]\n",
      "3.934340204996515e+19\n",
      "[[259.19654118]]\n",
      "[-0.8003916   2.85311392 -0.63659401]\n",
      "1.634678268855631e-78\n",
      "[[173.84197317]]\n",
      "[-0.79404537  3.41575492 -0.71052128]\n",
      "8.56559233016334e-101\n",
      "[[164.14173133]]\n",
      "[-0.75668941  3.5931486  -0.73705672]\n",
      "2.856170954012155e-107\n",
      "[[163.35980682]]\n",
      "[-0.71433067  3.68136728 -0.73513285]\n",
      "1.0573606256360784e-107\n",
      "[[163.10290521]]\n",
      "[-0.53466291  3.86996672 -0.73276331]\n",
      "6.588824829092957e-108\n",
      "[[162.39226674]]\n",
      "[-0.23493433  4.05695647 -0.72717576]\n",
      "2.187287552096313e-106\n",
      "[[161.61423378]]\n",
      "[-0.03311234  4.15401021 -0.72200327]\n",
      "8.62055661683766e-105\n",
      "[[161.39405108]]\n",
      "[ 0.03196766  4.18544747 -0.72099815]\n",
      "2.1684160590290655e-104\n",
      "[[161.37861781]]\n",
      "[ 0.04285092  4.19271644 -0.72078269]\n",
      "2.419267103932832e-104\n",
      "[[161.37828425]]\n",
      "[ 0.0450574   4.19520915 -0.7207958 ]\n",
      "2.3460774295114763e-104\n",
      "[[161.37825582]]\n",
      "[ 0.04527007  4.19576128 -0.72077399]\n",
      "2.336953088898281e-104\n",
      "[[161.3782539]]\n",
      "[ 0.0452373   4.19575749 -0.72079015]\n",
      "2.3212725332864676e-104\n",
      "[[161.37825392]]\n",
      "[ 0.04526008  4.19576013 -0.72077892]\n",
      "2.332162389393952e-104\n",
      "[[161.37825389]]\n"
     ]
    }
   ],
   "source": [
    "GPR = GaussianProcessRegressionBFGS()\n",
    "theta_ast, Lmin, result = GPR.fit(X_train, y_train)"
   ]
  },
  {
   "cell_type": "code",
   "execution_count": 16,
   "metadata": {},
   "outputs": [
    {
     "data": {
      "text/plain": [
       "{'grad': array([[[ 0.00035949]],\n",
       " \n",
       "        [[-0.00026356]],\n",
       " \n",
       "        [[-0.00066715]]]),\n",
       " 'task': b'CONVERGENCE: REL_REDUCTION_OF_F_<=_FACTR*EPSMCH',\n",
       " 'funcalls': 19,\n",
       " 'nit': 16,\n",
       " 'warnflag': 0}"
      ]
     },
     "execution_count": 16,
     "metadata": {},
     "output_type": "execute_result"
    }
   ],
   "source": [
    "result"
   ]
  },
  {
   "cell_type": "code",
   "execution_count": 17,
   "metadata": {},
   "outputs": [
    {
     "data": {
      "text/plain": [
       "array([ 1.04629995, 66.40418798,  0.48637326])"
      ]
     },
     "execution_count": 17,
     "metadata": {},
     "output_type": "execute_result"
    }
   ],
   "source": [
    "np.exp(theta_ast)"
   ]
  }
 ],
 "metadata": {
  "kernelspec": {
   "display_name": "Python 3",
   "language": "python",
   "name": "python3"
  },
  "language_info": {
   "codemirror_mode": {
    "name": "ipython",
    "version": 3
   },
   "file_extension": ".py",
   "mimetype": "text/x-python",
   "name": "python",
   "nbconvert_exporter": "python",
   "pygments_lexer": "ipython3",
   "version": "3.6.10"
  }
 },
 "nbformat": 4,
 "nbformat_minor": 4
}
